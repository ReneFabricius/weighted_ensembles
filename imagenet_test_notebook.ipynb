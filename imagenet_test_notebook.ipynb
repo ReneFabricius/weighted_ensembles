{
 "cells": [
  {
   "cell_type": "code",
   "execution_count": 67,
   "metadata": {
    "collapsed": true,
    "pycharm": {
     "is_executing": false
    }
   },
   "outputs": [],
   "source": [
    "import torch\n",
    "import numpy as np\n",
    "from sklearn.discriminant_analysis import LinearDiscriminantAnalysis\n",
    "from scipy.stats import normaltest\n",
    "import matplotlib.pyplot as plt\n",
    "from varname import nameof\n",
    "from collections import Counter\n",
    "from my_codes.weighted_ensembles.WeightedEnsemble import logit, pairwise_accuracies\n",
    "from my_codes.weighted_ensembles.test_cifar10 import create_pairwise\n",
    "from my_codes.weighted_ensembles.SimplePWCombine import bc\n",
    "from my_codes.weighted_ensembles.predictions_evaluation import *"
   ]
  },
  {
   "cell_type": "code",
   "execution_count": 68,
   "outputs": [],
   "source": [
    "dn = torch.tensor(np.load(\"D:/skola/1/weighted_ensembles/tests_IM2012/comb_train/densenet201.npy\"))\n",
    "rn = torch.tensor(np.load(\"D:/skola/1/weighted_ensembles/tests_IM2012/comb_train/resnet152.npy\"))\n",
    "nn = torch.tensor(np.load(\"D:/skola/1/weighted_ensembles/tests_IM2012/comb_train/nasnetamobile.npy\"))\n",
    "tar = torch.tensor(np.load(\"D:/skola/1/weighted_ensembles/tests_IM2012/comb_train/targets.npy\"))"
   ],
   "metadata": {
    "collapsed": false,
    "pycharm": {
     "name": "#%%\n",
     "is_executing": false
    }
   }
  },
  {
   "cell_type": "code",
   "execution_count": 69,
   "outputs": [],
   "source": [
    "class_from = 200\n",
    "class_to = 210\n",
    "classes = list(range(class_from,class_to))\n",
    "dn = dn[(tar >= class_from) & (tar < class_to)][:, classes]\n",
    "rn = rn[(tar >= class_from) & (tar < class_to)][:, classes]\n",
    "nn = nn[(tar >= class_from) & (tar < class_to)][:, classes]\n",
    "tar = tar[(tar >= class_from) & (tar < class_to)]\n",
    "new_tar = torch.zeros_like(tar)\n",
    "for cli, cl in enumerate(classes):\n",
    "    new_tar[tar == cl] = cli\n",
    "\n",
    "tar = new_tar"
   ],
   "metadata": {
    "collapsed": false,
    "pycharm": {
     "name": "#%%\n",
     "is_executing": false
    }
   }
  },
  {
   "cell_type": "code",
   "execution_count": 70,
   "outputs": [],
   "source": [
    "eps = 10e-5\n",
    "MP = torch.cat([nn_p.unsqueeze(0) for nn_p in [dn, rn, nn]], dim=0)\n",
    "c, n, k = MP.size()\n",
    "coefs = torch.zeros(k, k, c + 1)\n",
    "ldas = [[None for j in range(k)] for i in range(k)]\n",
    "p_probs = torch.Tensor(n, k, k)\n",
    "num_non_one = torch.sum(torch.abs(torch.sum(MP, dim=2) - 1.0) > eps).item()\n",
    "if num_non_one > 0:\n",
    "    MP = torch.nn.Softmax(dim=2)(MP)"
   ],
   "metadata": {
    "collapsed": false,
    "pycharm": {
     "name": "#%%\n",
     "is_executing": false
    }
   }
  },
  {
   "cell_type": "code",
   "execution_count": 71,
   "outputs": [
    {
     "name": "stdout",
     "text": [
      "Training pairwise accuracies for classes: 0, 1\n",
      "\tpairwise accuracies: tensor([0.9802, 1.0000, 0.9901])\n",
      "\tchosen coefficients: [[0.06063974 4.13531731 0.4835191 ]]\n",
      "\tintercept: [2.38680477]\n",
      "\tcombined accuracy: 1.0\n",
      "Training pairwise accuracies for classes: 0, 2\n",
      "\tpairwise accuracies: tensor([0.9901, 0.9901, 0.9604])\n",
      "\tchosen coefficients: [[ 0.8252583   1.31181557 -0.1698949 ]]\n",
      "\tintercept: [0.66068562]\n",
      "\tcombined accuracy: 0.9900990099009901\n",
      "Training pairwise accuracies for classes: 0, 3\n",
      "\tpairwise accuracies: tensor([0.9510, 0.9804, 0.9804])\n",
      "\tchosen coefficients: [[ 0.17101836  3.48351223 -0.235302  ]]\n",
      "\tintercept: [0.62295862]\n",
      "\tcombined accuracy: 0.9803921568627451\n",
      "Training pairwise accuracies for classes: 0, 4\n",
      "\tpairwise accuracies: tensor([0.9307, 0.9208, 0.8713])\n",
      "\tchosen coefficients: [[0.25748634 0.94268435 0.07909557]]\n",
      "\tintercept: [1.27683616]\n",
      "\tcombined accuracy: 0.9504950495049505\n",
      "Training pairwise accuracies for classes: 0, 5\n",
      "\tpairwise accuracies: tensor([1., 1., 1.])\n",
      "\tchosen coefficients: [[ 0.71851478 14.28154066  1.11197167]]\n",
      "\tintercept: [-1.61822314]\n",
      "\tcombined accuracy: 1.0\n",
      "Training pairwise accuracies for classes: 0, 6\n",
      "\tpairwise accuracies: tensor([1., 1., 1.])\n",
      "\tchosen coefficients: [[ 3.92591733 20.48252801  0.45399581]]\n",
      "\tintercept: [-0.27193791]\n",
      "\tcombined accuracy: 1.0\n",
      "Training pairwise accuracies for classes: 0, 7\n",
      "\tpairwise accuracies: tensor([0.9802, 0.9901, 0.9901])\n",
      "\tchosen coefficients: [[-1.08991229  3.45488368  2.96118991]]\n",
      "\tintercept: [-0.8102012]\n",
      "\tcombined accuracy: 1.0\n",
      "Training pairwise accuracies for classes: 0, 8\n",
      "\tpairwise accuracies: tensor([1., 1., 1.])\n",
      "\tchosen coefficients: [[0.12777527 7.71877107 2.45376416]]\n",
      "\tintercept: [-1.64749834]\n",
      "\tcombined accuracy: 1.0\n",
      "Training pairwise accuracies for classes: 0, 9\n",
      "\tpairwise accuracies: tensor([1., 1., 1.])\n",
      "\tchosen coefficients: [[5.47457977 4.64231292 6.78363839]]\n",
      "\tintercept: [-1.22172047]\n",
      "\tcombined accuracy: 1.0\n",
      "Training pairwise accuracies for classes: 1, 2\n",
      "\tpairwise accuracies: tensor([1.0000, 1.0000, 0.9900])\n",
      "\tchosen coefficients: [[ 2.59801887  5.06545022 -1.15165856]]\n",
      "\tintercept: [0.0865064]\n",
      "\tcombined accuracy: 1.0\n",
      "Training pairwise accuracies for classes: 1, 3\n",
      "\tpairwise accuracies: tensor([0.9901, 0.9901, 0.9901])\n",
      "\tchosen coefficients: [[0.44890695 2.96234759 0.6747521 ]]\n",
      "\tintercept: [-2.18081429]\n",
      "\tcombined accuracy: 0.9900990099009901\n",
      "Training pairwise accuracies for classes: 1, 4\n",
      "\tpairwise accuracies: tensor([1.0000, 1.0000, 0.9900])\n",
      "\tchosen coefficients: [[1.44235278 2.59279055 0.12784743]]\n",
      "\tintercept: [-0.840293]\n",
      "\tcombined accuracy: 1.0\n",
      "Training pairwise accuracies for classes: 1, 5\n",
      "\tpairwise accuracies: tensor([1.0000, 1.0000, 0.9901])\n",
      "\tchosen coefficients: [[6.27170318 7.7777596  1.47518998]]\n",
      "\tintercept: [-0.87072806]\n",
      "\tcombined accuracy: 1.0\n",
      "Training pairwise accuracies for classes: 1, 6\n",
      "\tpairwise accuracies: tensor([1.0000, 1.0000, 0.9897])\n",
      "\tchosen coefficients: [[23.42789108 26.57374587 -3.03929947]]\n",
      "\tintercept: [-1.79845471]\n",
      "\tcombined accuracy: 1.0\n",
      "Training pairwise accuracies for classes: 1, 7\n",
      "\tpairwise accuracies: tensor([1., 1., 1.])\n",
      "\tchosen coefficients: [[ 29.79372312  22.49467954 -11.08435263]]\n",
      "\tintercept: [-1.13046176]\n",
      "\tcombined accuracy: 1.0\n",
      "Training pairwise accuracies for classes: 1, 8\n",
      "\tpairwise accuracies: tensor([1.0000, 1.0000, 0.9901])\n",
      "\tchosen coefficients: [[2.39386787 9.26514679 1.29220921]]\n",
      "\tintercept: [-3.54125217]\n",
      "\tcombined accuracy: 1.0\n",
      "Training pairwise accuracies for classes: 1, 9\n",
      "\tpairwise accuracies: tensor([1., 1., 1.])\n",
      "\tchosen coefficients: [[10.76116916 45.95099442 -1.25917802]]\n",
      "\tintercept: [-6.10578565]\n",
      "\tcombined accuracy: 1.0\n",
      "Training pairwise accuracies for classes: 2, 3\n",
      "\tpairwise accuracies: tensor([0.9703, 0.9901, 0.9604])\n",
      "\tchosen coefficients: [[-0.49137789  3.31450447 -0.06581895]]\n",
      "\tintercept: [-0.55688496]\n",
      "\tcombined accuracy: 0.9900990099009901\n",
      "Training pairwise accuracies for classes: 2, 4\n",
      "\tpairwise accuracies: tensor([0.9900, 0.9900, 0.9700])\n",
      "\tchosen coefficients: [[ 0.33438319  2.30866578 -0.35890473]]\n",
      "\tintercept: [-0.33946093]\n",
      "\tcombined accuracy: 0.99\n",
      "Training pairwise accuracies for classes: 2, 5\n",
      "\tpairwise accuracies: tensor([1., 1., 1.])\n",
      "\tchosen coefficients: [[11.43044608 15.43726503 -5.28707268]]\n",
      "\tintercept: [-0.33536956]\n",
      "\tcombined accuracy: 1.0\n",
      "Training pairwise accuracies for classes: 2, 6\n",
      "\tpairwise accuracies: tensor([1.0000, 1.0000, 0.9897])\n",
      "\tchosen coefficients: [[15.46085911 15.54730514 -6.96471174]]\n",
      "\tintercept: [-2.23128418]\n",
      "\tcombined accuracy: 1.0\n",
      "Training pairwise accuracies for classes: 2, 7\n",
      "\tpairwise accuracies: tensor([1.0000, 0.9900, 1.0000])\n",
      "\tchosen coefficients: [[ 5.18952287  3.57715567 -0.76134399]]\n",
      "\tintercept: [-0.60891282]\n",
      "\tcombined accuracy: 1.0\n",
      "Training pairwise accuracies for classes: 2, 8\n",
      "\tpairwise accuracies: tensor([1.0000, 1.0000, 0.9901])\n",
      "\tchosen coefficients: [[ 2.36701754  5.87303709 -1.28075777]]\n",
      "\tintercept: [-2.23389057]\n",
      "\tcombined accuracy: 1.0\n",
      "Training pairwise accuracies for classes: 2, 9\n",
      "\tpairwise accuracies: tensor([1., 1., 1.])\n",
      "\tchosen coefficients: [[3.36931532 2.89780962 0.64582596]]\n",
      "\tintercept: [-2.32899281]\n",
      "\tcombined accuracy: 1.0\n",
      "Training pairwise accuracies for classes: 3, 4\n",
      "\tpairwise accuracies: tensor([0.9604, 0.9802, 0.9901])\n",
      "\tchosen coefficients: [[0.22701745 2.16232288 0.30591049]]\n",
      "\tintercept: [0.80448857]\n",
      "\tcombined accuracy: 0.9801980198019802\n",
      "Training pairwise accuracies for classes: 3, 5\n",
      "\tpairwise accuracies: tensor([1., 1., 1.])\n",
      "\tchosen coefficients: [[ 7.0630483  64.87034004  1.25917776]]\n",
      "\tintercept: [-3.19311594]\n",
      "\tcombined accuracy: 1.0\n",
      "Training pairwise accuracies for classes: 3, 6\n",
      "\tpairwise accuracies: tensor([1., 1., 1.])\n",
      "\tchosen coefficients: [[ 3.6509248  92.34376879 -5.57212175]]\n",
      "\tintercept: [-3.85338892]\n",
      "\tcombined accuracy: 1.0\n",
      "Training pairwise accuracies for classes: 3, 7\n",
      "\tpairwise accuracies: tensor([0.9802, 0.9901, 0.9901])\n",
      "\tchosen coefficients: [[ 0.74691758  8.09817761 -1.04328929]]\n",
      "\tintercept: [-0.82416098]\n",
      "\tcombined accuracy: 0.9900990099009901\n",
      "Training pairwise accuracies for classes: 3, 8\n",
      "\tpairwise accuracies: tensor([1.0000, 1.0000, 0.9902])\n",
      "\tchosen coefficients: [[ 4.16473971  5.92910077 -1.66176672]]\n",
      "\tintercept: [-0.49308602]\n",
      "\tcombined accuracy: 1.0\n",
      "Training pairwise accuracies for classes: 3, 9\n",
      "\tpairwise accuracies: tensor([1., 1., 1.])\n",
      "\tchosen coefficients: [[ 9.77505479 55.31226885 -3.07286862]]\n",
      "\tintercept: [-3.79236097]\n",
      "\tcombined accuracy: 1.0\n",
      "Training pairwise accuracies for classes: 4, 5\n",
      "\tpairwise accuracies: tensor([1., 1., 1.])\n",
      "\tchosen coefficients: [[20.92029725 37.41143716 -1.6983775 ]]\n",
      "\tintercept: [-0.83878495]\n",
      "\tcombined accuracy: 1.0\n",
      "Training pairwise accuracies for classes: 4, 6\n",
      "\tpairwise accuracies: tensor([1., 1., 1.])\n",
      "\tchosen coefficients: [[ 58.57802856 158.63125332 -17.41176118]]\n",
      "\tintercept: [-4.04384567]\n",
      "\tcombined accuracy: 1.0\n",
      "Training pairwise accuracies for classes: 4, 7\n",
      "\tpairwise accuracies: tensor([1., 1., 1.])\n",
      "\tchosen coefficients: [[3.59193929 3.74687809 2.18549619]]\n",
      "\tintercept: [-2.71195897]\n",
      "\tcombined accuracy: 1.0\n",
      "Training pairwise accuracies for classes: 4, 8\n",
      "\tpairwise accuracies: tensor([1., 1., 1.])\n",
      "\tchosen coefficients: [[ 6.45859983 10.16855913 -2.46812479]]\n",
      "\tintercept: [-3.85443494]\n",
      "\tcombined accuracy: 1.0\n",
      "Training pairwise accuracies for classes: 4, 9\n",
      "\tpairwise accuracies: tensor([1., 1., 1.])\n",
      "\tchosen coefficients: [[11.62383276 22.47284297  0.2488662 ]]\n",
      "\tintercept: [-3.86443954]\n",
      "\tcombined accuracy: 1.0\n",
      "Training pairwise accuracies for classes: 5, 6\n",
      "\tpairwise accuracies: tensor([0.9694, 0.9490, 0.9592])\n",
      "\tchosen coefficients: [[0.67746471 1.3319965  0.02113585]]\n",
      "\tintercept: [1.08874961]\n",
      "\tcombined accuracy: 0.9489795918367347\n",
      "Training pairwise accuracies for classes: 5, 7\n",
      "\tpairwise accuracies: tensor([1., 1., 1.])\n",
      "\tchosen coefficients: [[0.9369919  2.57722075 3.01055353]]\n",
      "\tintercept: [-2.70685608]\n",
      "\tcombined accuracy: 1.0\n",
      "Training pairwise accuracies for classes: 5, 8\n",
      "\tpairwise accuracies: tensor([0.9608, 0.9412, 0.9118])\n",
      "\tchosen coefficients: [[0.40638466 0.8620761  0.0469747 ]]\n",
      "\tintercept: [0.34966186]\n",
      "\tcombined accuracy: 0.9803921568627451\n",
      "Training pairwise accuracies for classes: 5, 9\n",
      "\tpairwise accuracies: tensor([0.9804, 0.9902, 0.9804])\n",
      "\tchosen coefficients: [[0.34742819 3.09293121 0.22220103]]\n",
      "\tintercept: [0.08914623]\n",
      "\tcombined accuracy: 0.9901960784313726\n",
      "Training pairwise accuracies for classes: 6, 7\n",
      "\tpairwise accuracies: tensor([1., 1., 1.])\n",
      "\tchosen coefficients: [[4.3550198  5.292714   0.17217648]]\n",
      "\tintercept: [-3.07922361]\n",
      "\tcombined accuracy: 1.0\n",
      "Training pairwise accuracies for classes: 6, 8\n",
      "\tpairwise accuracies: tensor([0.9898, 0.9796, 0.9388])\n",
      "\tchosen coefficients: [[ 1.31059243  2.00312771 -1.15717456]]\n",
      "\tintercept: [-1.09123139]\n",
      "\tcombined accuracy: 0.9795918367346939\n",
      "Training pairwise accuracies for classes: 6, 9\n",
      "\tpairwise accuracies: tensor([0.9796, 0.9898, 0.9694])\n",
      "\tchosen coefficients: [[ 0.58579359  2.53757654 -0.83990484]]\n",
      "\tintercept: [-0.29666295]\n",
      "\tcombined accuracy: 0.9897959183673469\n",
      "Training pairwise accuracies for classes: 7, 8\n",
      "\tpairwise accuracies: tensor([0.9307, 0.9406, 0.9604])\n",
      "\tchosen coefficients: [[0.25036542 0.21523796 1.01765547]]\n",
      "\tintercept: [0.89079671]\n",
      "\tcombined accuracy: 0.9702970297029703\n",
      "Training pairwise accuracies for classes: 7, 9\n",
      "\tpairwise accuracies: tensor([1., 1., 1.])\n",
      "\tchosen coefficients: [[0.67304872 1.44063617 1.21227864]]\n",
      "\tintercept: [0.8462511]\n",
      "\tcombined accuracy: 1.0\n",
      "Training pairwise accuracies for classes: 8, 9\n",
      "\tpairwise accuracies: tensor([0.9510, 0.9608, 0.9510])\n",
      "\tchosen coefficients: [[0.03398852 0.93146415 0.61168329]]\n",
      "\tintercept: [0.49589212]\n",
      "\tcombined accuracy: 0.9607843137254902\n"
     ],
     "output_type": "stream"
    }
   ],
   "source": [
    "pi = 0\n",
    "for fc in range(k):\n",
    "    for sc in range(fc + 1, k):\n",
    "        SS = MP[:, (tar == fc) + (tar == sc)][:, :, [fc, sc]]\n",
    "        PWP = torch.true_divide(SS[:, :, 0], torch.sum(SS, 2) + (SS[:, :, 0] == 0))\n",
    "        LI = logit(PWP, eps)\n",
    "        X = LI.transpose(0, 1)\n",
    "        y = tar[(tar == fc) + (tar == sc)]\n",
    "        mask_fc = (y == fc)\n",
    "        mask_sc = (y == sc)\n",
    "        y[mask_fc] = 1\n",
    "        y[mask_sc] = 0\n",
    "        \n",
    "        clf = LinearDiscriminantAnalysis(solver='lsqr')\n",
    "        clf.fit(X, y)\n",
    "        coefs[fc, sc, :] = torch.cat((torch.tensor(clf.coef_).squeeze(),\n",
    "                                            torch.tensor(clf.intercept_)))\n",
    "        ldas[fc][sc] = clf\n",
    "\n",
    "        pwacc = pairwise_accuracies(SS, y)\n",
    "        print(\"Training pairwise accuracies for classes: \" + str(fc) + \", \" + str(sc) +\n",
    "              \"\\n\\tpairwise accuracies: \" + str(pwacc) +\n",
    "              \"\\n\\tchosen coefficients: \" + str(clf.coef_) +\n",
    "              \"\\n\\tintercept: \" + str(clf.intercept_))\n",
    "       \n",
    "        print(\"\\tcombined accuracy: \" + str(clf.score(X, y)))\n",
    "        \n",
    "        pi += 1"
   ],
   "metadata": {
    "collapsed": false,
    "pycharm": {
     "name": "#%%\n",
     "is_executing": false
    }
   }
  },
  {
   "cell_type": "code",
   "execution_count": 72,
   "outputs": [],
   "source": [
    "for fc in range(k):\n",
    "    for sc in range(fc + 1, k):\n",
    "        SS = MP[:, :, [fc, sc]]\n",
    "        PWP = torch.true_divide(SS[:, :, 0], torch.sum(SS, 2) + (SS[:, :, 0] == 0))\n",
    "        LI = logit(PWP, eps)\n",
    "        X = LI.transpose(0, 1)\n",
    "        PP = ldas[fc][sc].predict_proba(X)\n",
    "        p_probs[:, sc, fc] = torch.from_numpy(PP[:, 0])\n",
    "        p_probs[:, fc, sc] = torch.from_numpy(PP[:, 1])"
   ],
   "metadata": {
    "collapsed": false,
    "pycharm": {
     "name": "#%%\n",
     "is_executing": false
    }
   }
  },
  {
   "cell_type": "code",
   "execution_count": 73,
   "outputs": [],
   "source": [
    "comb = bc(p_probs.cuda()).cpu()\n",
    "dn_pw = create_pairwise(dn)\n",
    "rn_pw = create_pairwise(rn)\n",
    "nn_pw = create_pairwise(nn)\n"
   ],
   "metadata": {
    "collapsed": false,
    "pycharm": {
     "name": "#%%\n",
     "is_executing": false
    }
   }
  },
  {
   "cell_type": "code",
   "execution_count": 74,
   "outputs": [
    {
     "name": "stdout",
     "text": [
      "pred 0.9223107569721115\n",
      "pred 0.9243027888446215\n",
      "pred 0.8904382470119522\n",
      "pred 0.9342629482071713\n"
     ],
     "output_type": "stream"
    }
   ],
   "source": [
    "dn_acc = compute_acc_topk(tar, dn, 1)\n",
    "rn_acc = compute_acc_topk(tar, rn, 1)\n",
    "nn_acc = compute_acc_topk(tar, nn, 1)\n",
    "comb_acc = compute_acc_topk(tar, comb, 1)\n",
    "\n",
    "print('\\n'.join([nameof(pred) + \" \" + str(pred) for pred in [dn_acc, rn_acc, nn_acc, comb_acc]]))"
   ],
   "metadata": {
    "collapsed": false,
    "pycharm": {
     "name": "#%%\n",
     "is_executing": false
    }
   }
  },
  {
   "cell_type": "code",
   "execution_count": 74,
   "outputs": [],
   "source": [],
   "metadata": {
    "collapsed": false,
    "pycharm": {
     "name": "#%%\n",
     "is_executing": false
    }
   }
  },
  {
   "cell_type": "code",
   "execution_count": 74,
   "outputs": [],
   "source": [],
   "metadata": {
    "collapsed": false,
    "pycharm": {
     "name": "#%%\n",
     "is_executing": false
    }
   }
  }
 ],
 "metadata": {
  "kernelspec": {
   "display_name": "Python 3",
   "language": "python",
   "name": "python3"
  },
  "language_info": {
   "codemirror_mode": {
    "name": "ipython",
    "version": 2
   },
   "file_extension": ".py",
   "mimetype": "text/x-python",
   "name": "python",
   "nbconvert_exporter": "python",
   "pygments_lexer": "ipython2",
   "version": "2.7.6"
  },
  "pycharm": {
   "stem_cell": {
    "cell_type": "raw",
    "source": [],
    "metadata": {
     "collapsed": false
    }
   }
  }
 },
 "nbformat": 4,
 "nbformat_minor": 0
}